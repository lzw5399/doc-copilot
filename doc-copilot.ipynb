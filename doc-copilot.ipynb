{
 "cells": [
  {
   "attachments": {},
   "cell_type": "markdown",
   "metadata": {},
   "source": [
    "加载txt文件，建立本地知识库"
   ]
  },
  {
   "cell_type": "code",
   "execution_count": null,
   "metadata": {},
   "outputs": [],
   "source": [
    "%pip install -r requirements.txt -i https://pypi.tuna.tsinghua.edu.cn/simple"
   ]
  },
  {
   "cell_type": "code",
   "execution_count": null,
   "metadata": {},
   "outputs": [],
   "source": [
    "#######################\n",
    "# 做一些初始化等准备工作  #\n",
    "#######################\n",
    "\n",
    "from dotenv import load_dotenv\n",
    "import os\n",
    "import sys\n",
    "\n",
    "load_dotenv()  # 加载.env文件\n",
    "\n",
    "openapi_key = os.getenv(\"OPENAI_API_KEY\")  # 确保openapi_key已设置\n",
    "print(f\"OPENAI_API_KEY: {openapi_key}\")\n",
    "\n",
    "if not openapi_key:\n",
    "    print(\"[ERROR] OPENAI_API_KEY not set\")\n",
    "    sys.exit(1)"
   ]
  },
  {
   "cell_type": "code",
   "execution_count": null,
   "metadata": {},
   "outputs": [],
   "source": [
    "#################\n",
    "# 进行文档分词处理 #\n",
    "#################\n",
    "\n",
    "from langchain.document_loaders import DirectoryLoader\n",
    "from langchain.document_loaders import TextLoader\n",
    "from langchain.text_splitter import SpacyTextSplitter\n",
    "\n",
    "\n",
    "# 初始化目录加载器\n",
    "# loader = DirectoryLoader(path='./txt/out', glob=\"**/*.txt\", loader_cls=TextLoader)\n",
    "loader = DirectoryLoader(path='./txt', glob=\"**/*.txt\", loader_cls=TextLoader)\n",
    "\n",
    "# 加载文档\n",
    "documents = loader.load()\n",
    "\n",
    "# 初始化分词器\n",
    "text_splitter = SpacyTextSplitter(pipeline='zh_core_web_sm',chunk_size=1000,chunk_overlap=0)\n",
    "\n",
    "# 文档分块\n",
    "split_docs = text_splitter.split_documents(documents)"
   ]
  },
  {
   "cell_type": "code",
   "execution_count": null,
   "metadata": {},
   "outputs": [],
   "source": [
    "print(len(split_docs))"
   ]
  },
  {
   "cell_type": "code",
   "execution_count": null,
   "metadata": {},
   "outputs": [],
   "source": [
    "###################################################\n",
    "# 1. 调用open ai的embedding模型，将分词向量化\n",
    "# 2. 保存分词结果到 chroma_db\n",
    "###################################################\n",
    "\n",
    "import os\n",
    "from langchain.embeddings.openai import OpenAIEmbeddings\n",
    "from langchain.vectorstores import Chroma\n",
    "\n",
    "# TODO: 这里可以切换成其他的embedding模型，比如 LlamaCppEmbeddings, HuggingFaceHubEmbeddings\n",
    "embeddings = OpenAIEmbeddings(openai_api_key=os.getenv(\"OPENAI_API_KEY\"))\n",
    "\n",
    "# 保存分词结果到向量数据库Chroma\n",
    "db = Chroma.from_documents(documents=split_docs, embedding=embeddings, persist_directory='./chroma_db')\n",
    "db.persist()\n",
    "db = None"
   ]
  },
  {
   "cell_type": "code",
   "execution_count": null,
   "metadata": {},
   "outputs": [],
   "source": [
    "\n",
    "\n",
    "# from langchain.llms import OpenAI\n",
    "# from langchain.chains.question_answering import load_qa_chain\n",
    "# import os\n",
    "# from langchain.embeddings.openai import OpenAIEmbeddings\n",
    "# from langchain.vectorstores import Chroma\n",
    "\n",
    "# embeddings = OpenAIEmbeddings(openai_api_key=os.getenv(\"OPENAI_API_KEY\"))\n",
    "\n",
    "# # 初始化llm\n",
    "# llm = OpenAI(temperature=0, openai_api_key=os.getenv(\"OPENAI_API_KEY\"))\n",
    "# chain = load_qa_chain(llm=llm, chain_type='stuff')\n",
    "\n",
    "# persist_directory = './chroma_db'\n",
    "# db = Chroma(persist_directory=persist_directory, embedding_function=embeddings)\n",
    "\n",
    "# query = \"汉朝有几位皇帝？\"\n",
    "# docs = db.similarity_search(query, 1)"
   ]
  },
  {
   "cell_type": "code",
   "execution_count": null,
   "metadata": {},
   "outputs": [],
   "source": [
    "\n",
    "\n",
    "from langchain.llms import LlamaCpp\n",
    "from langchain.chains.question_answering import load_qa_chain\n",
    "import os\n",
    "from langchain.embeddings.openai import OpenAIEmbeddings\n",
    "from langchain.vectorstores import Chroma\n",
    "\n",
    "embeddings = OpenAIEmbeddings(openai_api_key=os.getenv(\"OPENAI_API_KEY\"))\n",
    "\n",
    "# 初始化 llama.cpp 模型\n",
    "llm = LlamaCpp(model_path=\"/Users/zhiwen/code/llama.cpp/zh-models/7B/ggml-model-q4_0.bin\")\n",
    "\n",
    "chain = load_qa_chain(llm=llm, chain_type='stuff')\n",
    "\n",
    "# chroma加载上述embedding后的暂存的数据\n",
    "db = Chroma(persist_directory='./chroma_db', embedding_function=embeddings)\n",
    "\n",
    "# 示例的prompt\n",
    "query = \"如何处理需要不同账户与端口登录的不同机器？\"\n",
    "\n",
    "docs = db.similarity_search(query, 1)"
   ]
  },
  {
   "cell_type": "code",
   "execution_count": null,
   "metadata": {},
   "outputs": [],
   "source": [
    "print(docs[0].page_content)"
   ]
  },
  {
   "cell_type": "code",
   "execution_count": null,
   "metadata": {},
   "outputs": [],
   "source": [
    "chain.run(input_documents=docs, question=query)"
   ]
  }
 ],
 "metadata": {
  "kernelspec": {
   "display_name": "Python 3 (ipykernel)",
   "language": "python",
   "name": "python3"
  },
  "language_info": {
   "codemirror_mode": {
    "name": "ipython",
    "version": 3
   },
   "file_extension": ".py",
   "mimetype": "text/x-python",
   "name": "python",
   "nbconvert_exporter": "python",
   "pygments_lexer": "ipython3",
   "version": "3.11.2"
  }
 },
 "nbformat": 4,
 "nbformat_minor": 2
}
