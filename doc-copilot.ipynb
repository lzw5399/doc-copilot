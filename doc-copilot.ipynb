{
 "cells": [
  {
   "attachments": {},
   "cell_type": "markdown",
   "metadata": {},
   "source": [
    "加载txt文件，建立本地知识库"
   ]
  },
  {
   "cell_type": "code",
   "execution_count": null,
   "metadata": {},
   "outputs": [],
   "source": [
    "%pip install -r requirements.txt -i https://pypi.tuna.tsinghua.edu.cn/simple"
   ]
  },
  {
   "cell_type": "code",
   "execution_count": null,
   "metadata": {},
   "outputs": [],
   "source": [
    "#######################\n",
    "# 做一些初始化等准备工作  #\n",
    "#######################\n",
    "\n",
    "from dotenv import load_dotenv\n",
    "import os\n",
    "import sys\n",
    "\n",
    "load_dotenv()  # 加载.env文件\n",
    "\n",
    "openapi_key = os.getenv(\"OPENAI_API_KEY\")  # 确保openapi_key已设置\n",
    "\n",
    "if not openapi_key:\n",
    "    print(\"[ERROR] OPENAI_API_KEY not set\")\n",
    "    sys.exit(1)"
   ]
  },
  {
   "cell_type": "code",
   "execution_count": null,
   "metadata": {},
   "outputs": [],
   "source": [
    "#################\n",
    "# 进行文档分词处理 #\n",
    "#################\n",
    "\n",
    "from langchain.document_loaders import DirectoryLoader\n",
    "from langchain.document_loaders import TextLoader\n",
    "from langchain.text_splitter import SpacyTextSplitter\n",
    "\n",
    "\n",
    "# 初始化目录加载器\n",
    "# loader = DirectoryLoader(path='./txt/out', glob=\"**/*.txt\", loader_cls=TextLoader)\n",
    "loader = DirectoryLoader(path='./txt', glob=\"**/*.txt\", loader_cls=TextLoader)\n",
    "\n",
    "# 加载文档\n",
    "documents = loader.load()\n",
    "\n",
    "# 初始化分词器\n",
    "text_splitter = SpacyTextSplitter(pipeline='zh_core_web_sm',chunk_size=1000,chunk_overlap=0)\n",
    "\n",
    "# 文档分块\n",
    "split_docs = text_splitter.split_documents(documents)"
   ]
  },
  {
   "cell_type": "code",
   "execution_count": null,
   "metadata": {},
   "outputs": [],
   "source": [
    "print(len(split_docs))"
   ]
  },
  {
   "cell_type": "code",
   "execution_count": null,
   "metadata": {},
   "outputs": [],
   "source": [
    "###################################################\n",
    "# 1. 调用open ai的embedding模型，将分词向量化\n",
    "# 2. 保存分词结果到 chroma_db\n",
    "###################################################\n",
    "\n",
    "import os\n",
    "from langchain.embeddings.openai import OpenAIEmbeddings\n",
    "from langchain.vectorstores import Chroma\n",
    "\n",
    "# TODO: 这里可以切换成其他的embedding模型，比如 LlamaCppEmbeddings, HuggingFaceHubEmbeddings\n",
    "embeddings = OpenAIEmbeddings(openai_api_key=os.getenv(\"OPENAI_API_KEY\"))\n",
    "\n",
    "# 保存分词结果到向量数据库Chroma\n",
    "db = Chroma.from_documents(documents=split_docs, embedding=embeddings, persist_directory='./chroma_db')\n",
    "db.persist()\n",
    "db = None"
   ]
  },
  {
   "cell_type": "code",
   "execution_count": null,
   "metadata": {},
   "outputs": [],
   "source": [
    "\n",
    "\n",
    "# from langchain.llms import OpenAI\n",
    "# from langchain.chains.question_answering import load_qa_chain\n",
    "# import os\n",
    "# from langchain.embeddings.openai import OpenAIEmbeddings\n",
    "# from langchain.vectorstores import Chroma\n",
    "\n",
    "# embeddings = OpenAIEmbeddings(openai_api_key=os.getenv(\"OPENAI_API_KEY\"))\n",
    "\n",
    "# # 初始化llm\n",
    "# llm = OpenAI(temperature=0, openai_api_key=os.getenv(\"OPENAI_API_KEY\"))\n",
    "# chain = load_qa_chain(llm=llm, chain_type='stuff')\n",
    "\n",
    "# persist_directory = './chroma_db'\n",
    "# db = Chroma(persist_directory=persist_directory, embedding_function=embeddings)\n",
    "\n",
    "# query = \"如何处理需要不同账户与端口登录的不同机器？\"\n",
    "# docs = db.similarity_search(query, 1)"
   ]
  },
  {
   "cell_type": "code",
   "execution_count": null,
   "metadata": {},
   "outputs": [],
   "source": [
    "\n",
    "\n",
    "from langchain.llms import LlamaCpp\n",
    "from langchain.chains.question_answering import load_qa_chain\n",
    "import os\n",
    "from langchain.embeddings.openai import OpenAIEmbeddings\n",
    "from langchain.vectorstores import Chroma\n",
    "\n",
    "embeddings = OpenAIEmbeddings(openai_api_key=os.getenv(\"OPENAI_API_KEY\"))\n",
    "\n",
    "# 初始化 llama.cpp 模型\n",
    "llm = LlamaCpp(model_path=\"/Users/zhiwen/code/llama.cpp/zh-models/7B/ggml-model-q4_0.bin\")\n",
    "\n",
    "chain = load_qa_chain(llm=llm, chain_type='stuff')\n",
    "\n",
    "# chroma加载上述embedding后的暂存的数据\n",
    "db = Chroma(persist_directory='./chroma_db', embedding_function=embeddings)\n",
    "\n",
    "# 示例的prompt\n",
    "query = \"如何处理需要不同账户与端口登录的不同机器？\"\n",
    "\n",
    "docs = db.similarity_search(query, 1)"
   ]
  },
  {
   "cell_type": "code",
   "execution_count": null,
   "metadata": {},
   "outputs": [],
   "source": [
    "print(docs[0].page_content)"
   ]
  },
  {
   "cell_type": "code",
   "execution_count": 40,
   "metadata": {},
   "outputs": [
    {
     "name": "stderr",
     "output_type": "stream",
     "text": [
      "llama_tokenize: too many tokens\n"
     ]
    },
    {
     "ename": "RuntimeError",
     "evalue": "Failed to tokenize: text=\"b\" Use the following pieces of context to answer the question at the end. If you don't know the answer, just say that you don't know, don't try to make up an answer.\\n\\nInstallation\\n\\nTopics\\n\\nInstallation\\n\\xe4\\xbb\\x8eGithub\\xe8\\x8e\\xb7\\xe5\\x8f\\x96Ansible\\n\\xe9\\x9c\\x80\\xe8\\xa6\\x81\\xe5\\xae\\x89\\xe8\\xa3\\x85\\xe4\\xba\\x9b\\xe4\\xbb\\x80\\xe4\\xb9\\x88\\n\\xe9\\x80\\x89\\xe6\\x8b\\xa9\\xe5\\x93\\xaa\\xe4\\xb8\\x80\\xe4\\xb8\\xaa\\xe7\\x89\\x88\\xe6\\x9c\\xac?\\n\\xe5\\xaf\\xb9\\xe7\\xae\\xa1\\xe7\\x90\\x86\\xe4\\xb8\\xbb\\xe6\\x9c\\xba\\xe7\\x9a\\x84\\xe8\\xa6\\x81\\xe6\\xb1\\x82\\n\\xe5\\xaf\\xb9\\xe6\\x89\\x98\\xe7\\xae\\xa1\\xe8\\x8a\\x82\\xe7\\x82\\xb9\\xe7\\x9a\\x84\\xe8\\xa6\\x81\\xe6\\xb1\\x82\\n\\xe5\\xae\\x89\\xe8\\xa3\\x85\\xe7\\xae\\xa1\\xe7\\x90\\x86\\xe4\\xb8\\xbb\\xe6\\x9c\\xba\\n\\xe4\\xbb\\x8e\\xe6\\xba\\x90\\xe7\\xa0\\x81\\xe8\\xbf\\x90\\xe8\\xa1\\x8c\\n\\xe9\\x80\\x9a\\xe8\\xbf\\x87Yum\\xe5\\xae\\x89\\xe8\\xa3\\x85\\xe6\\x9c\\x80\\xe6\\x96\\xb0\\xe5\\x8f\\x91\\xe5\\xb8\\x83\\xe7\\x89\\x88\\xe6\\x9c\\xac\\n\\xe9\\x80\\x9a\\xe8\\xbf\\x87Apt (Ubuntu)\\xe5\\xae\\x89\\xe8\\xa3\\x85\\xe6\\x9c\\x80\\xe6\\x96\\xb0\\xe5\\x8f\\x91\\xe5\\xb8\\x83\\xe7\\x89\\x88\\xe6\\x9c\\xac\\n\\xe9\\x80\\x9a\\xe8\\xbf\\x87 Portage (Gentoo)\\xe5\\xae\\x89\\xe8\\xa3\\x85\\xe6\\x9c\\x80\\xe6\\x96\\xb0\\xe5\\x8f\\x91\\xe5\\xb8\\x83\\xe7\\x89\\x88\\xe6\\x9c\\xac\\n\\xe9\\x80\\x9a\\xe8\\xbf\\x87 pkg (FreeBSD)\\xe5\\xae\\x89\\xe8\\xa3\\x85\\xe6\\x9c\\x80\\xe6\\x96\\xb0\\xe5\\x8f\\x91\\xe5\\xb8\\x83\\xe7\\x89\\x88\\xe6\\x9c\\xac\\n\\xe5\\x9c\\xa8Mac OSX \\xe4\\xb8\\x8a\\xe5\\xae\\x89\\xe8\\xa3\\x85\\xe6\\x9c\\x80\\xe6\\x96\\xb0\\xe5\\x8f\\x91\\xe5\\xb8\\x83\\xe7\\x89\\x88\\xe6\\x9c\\xac\\n\\xe9\\x80\\x9a\\xe8\\xbf\\x87 OpenCSW \\xe5\\xae\\x89\\xe8\\xa3\\x85\\xe6\\x9c\\x80\\xe6\\x96\\xb0\\xe5\\x8f\\x91\\xe5\\xb8\\x83\\xe7\\x89\\x88\\xe6\\x9c\\xac(Solaris)\\n\\xe9\\x80\\x9a\\xe8\\xbf\\x87 Pacman \\xe5\\xae\\x89\\xe8\\xa3\\x85\\xe6\\x9c\\x80\\xe6\\x96\\xb0\\xe5\\x8f\\x91\\xe5\\xb8\\x83\\xe7\\x89\\x88\\xe6\\x9c\\xac(Arch Linux)\\n\\xe9\\x80\\x9a\\xe8\\xbf\\x87 Pip \\xe5\\xae\\x89\\xe8\\xa3\\x85\\xe6\\x9c\\x80\\xe6\\x96\\xb0\\xe5\\x8f\\x91\\xe5\\xb8\\x83\\xe7\\x89\\x88\\xe6\\x9c\\xac\\n\\xe5\\x8f\\x91\\xe8\\xa1\\x8c\\xe7\\x89\\x88\\xe7\\x9a\\x84Tarball\\n\\n\\n\\n\\n\\n\\n\\n\\xe4\\xbb\\x8eGithub\\xe8\\x8e\\xb7\\xe5\\x8f\\x96Ansible\\n\\xe5\\xa6\\x82\\xe6\\x9e\\x9c\\xe4\\xbd\\xa0\\xe6\\x9c\\x89\\xe4\\xb8\\x80\\xe4\\xb8\\xaagithub\\xe8\\xb4\\xa6\\xe6\\x88\\xb7,\\xe5\\x8f\\xaf\\xe4\\xbb\\xa5\\xe8\\xb7\\x9f\\xe8\\xbf\\x9bAnsible\\xe5\\x9c\\xa8Github\\xe7\\x9a\\x84\\xe9\\xa1\\xb9\\xe7\\x9b\\xae: Github project \\xe6\\x88\\x91\\xe4\\xbb\\xac\\xe5\\x9c\\xa8\\xe8\\xbf\\x99\\xe9\\x87\\x8c\\xe4\\xbf\\x9d\\xe6\\x8c\\x81\\xe5\\xaf\\xb9bugs\\xe5\\x92\\x8cfeature ideas\\xe7\\x9a\\x84\\xe8\\xb7\\x9f\\xe8\\xb8\\xaa.\\n\\n\\n\\xe9\\x9c\\x80\\xe8\\xa6\\x81\\xe5\\xae\\x89\\xe8\\xa3\\x85\\xe4\\xba\\x9b\\xe4\\xbb\\x80\\xe4\\xb9\\x88\\nAnsible\\xe9\\xbb\\x98\\xe8\\xae\\xa4\\xe9\\x80\\x9a\\xe8\\xbf\\x87  SSH \\xe5\\x8d\\x8f\\xe8\\xae\\xae\\xe7\\xae\\xa1\\xe7\\x90\\x86\\xe6\\x9c\\xba\\xe5\\x99\\xa8.\\n\\xe5\\xae\\x89\\xe8\\xa3\\x85Ansible\\xe4\\xb9\\x8b\\xe5\\x90\\x8e,\\xe4\\xb8\\x8d\\xe9\\x9c\\x80\\xe8\\xa6\\x81\\xe5\\x90\\xaf\\xe5\\x8a\\xa8\\xe6\\x88\\x96\\xe8\\xbf\\x90\\xe8\\xa1\\x8c\\xe4\\xb8\\x80\\xe4\\xb8\\xaa\\xe5\\x90\\x8e\\xe5\\x8f\\xb0\\xe8\\xbf\\x9b\\xe7\\xa8\\x8b,\\xe6\\x88\\x96\\xe6\\x98\\xaf\\xe6\\xb7\\xbb\\xe5\\x8a\\xa0\\xe4\\xb8\\x80\\xe4\\xb8\\xaa\\xe6\\x95\\xb0\\xe6\\x8d\\xae\\xe5\\xba\\x93.\\n\\n\\xe5\\x8f\\xaa\\xe8\\xa6\\x81\\xe5\\x9c\\xa8\\xe4\\xb8\\x80\\xe5\\x8f\\xb0\\xe7\\x94\\xb5\\xe8\\x84\\x91(\\xe5\\x8f\\xaf\\xe4\\xbb\\xa5\\xe6\\x98\\xaf\\xe4\\xb8\\x80\\xe5\\x8f\\xb0\\xe7\\xac\\x94\\xe8\\xae\\xb0\\xe6\\x9c\\xac)\\xe4\\xb8\\x8a\\xe5\\xae\\x89\\xe8\\xa3\\x85\\xe5\\xa5\\xbd,\\xe5\\xb0\\xb1\\xe5\\x8f\\xaf\\xe4\\xbb\\xa5\\xe9\\x80\\x9a\\xe8\\xbf\\x87\\xe8\\xbf\\x99\\xe5\\x8f\\xb0\\xe7\\x94\\xb5\\xe8\\x84\\x91\\xe7\\xae\\xa1\\xe7\\x90\\x86\\xe4\\xb8\\x80\\xe7\\xbb\\x84\\xe8\\xbf\\x9c\\xe7\\xa8\\x8b\\xe7\\x9a\\x84\\xe6\\x9c\\xba\\xe5\\x99\\xa8.\\n\\n\\xe5\\x9c\\xa8\\xe8\\xbf\\x9c\\xe7\\xa8\\x8b\\xe8\\xa2\\xab\\xe7\\xae\\xa1\\xe7\\x90\\x86\\xe7\\x9a\\x84\\xe6\\x9c\\xba\\xe5\\x99\\xa8\\xe4\\xb8\\x8a,\\xe4\\xb8\\x8d\\xe9\\x9c\\x80\\xe8\\xa6\\x81\\xe5\\xae\\x89\\xe8\\xa3\\x85\\xe8\\xbf\\x90\\xe8\\xa1\\x8c\\xe4\\xbb\\xbb\\xe4\\xbd\\x95\\xe8\\xbd\\xaf\\xe4\\xbb\\xb6,\\xe5\\x9b\\xa0\\xe6\\xad\\xa4\\xe5\\x8d\\x87\\xe7\\xba\\xa7Ansible\\xe7\\x89\\x88\\xe6\\x9c\\xac\\xe4\\xb8\\x8d\\xe4\\xbc\\x9a\\xe6\\x9c\\x89\\xe5\\xa4\\xaa\\xe5\\xa4\\x9a\\xe9\\x97\\xae\\xe9\\xa2\\x98.\\n\\n\\n\\xe9\\x80\\x89\\xe6\\x8b\\xa9\\xe5\\x93\\xaa\\xe4\\xb8\\x80\\xe4\\xb8\\xaa\\xe7\\x89\\x88\\xe6\\x9c\\xac?\\n\\n\\n\\xe5\\x9b\\xa0\\xe4\\xb8\\xbaAnsible\\xe5\\x8f\\xaf\\xe4\\xbb\\xa5\\xe5\\xbe\\x88\\xe7\\xae\\x80\\xe5\\x8d\\x95\\xe7\\x9a\\x84\\xe4\\xbb\\x8e\\xe6\\xba\\x90\\xe7\\xa0\\x81\\xe8\\xbf\\x90\\xe8\\xa1\\x8c,\\xe4\\xb8\\x94\\xe4\\xb8\\x8d\\xe5\\xbf\\x85\\xe5\\x9c\\xa8\\xe8\\xbf\\x9c\\xe7\\xa8\\x8b\\xe8\\xa2\\xab\\xe7\\xae\\xa1\\xe7\\x90\\x86\\xe6\\x9c\\xba\\xe5\\x99\\xa8\\xe4\\xb8\\x8a\\xe5\\xae\\x89\\xe8\\xa3\\x85\\xe4\\xbb\\xbb\\xe4\\xbd\\x95\\xe8\\xbd\\xaf\\xe4\\xbb\\xb6,\\xe5\\xbe\\x88\\xe5\\xa4\\x9aAnsible\\xe7\\x94\\xa8\\xe6\\x88\\xb7\\xe4\\xbc\\x9a\\xe8\\xb7\\x9f\\xe8\\xbf\\x9b\\xe4\\xbd\\xbf\\xe7\\x94\\xa8\\xe5\\xbc\\x80\\xe5\\x8f\\x91\\xe7\\x89\\x88\\xe6\\x9c\\xac.\\nAnsible\\xe4\\xb8\\x80\\xe8\\x88\\xac\\xe6\\xaf\\x8f\\xe4\\xb8\\xa4\\xe4\\xb8\\xaa\\xe6\\x9c\\x88\\xe5\\x87\\xba\\xe4\\xb8\\x80\\xe4\\xb8\\xaa\\xe5\\x8f\\x91\\xe8\\xa1\\x8c\\xe7\\x89\\x88\\xe6\\x9c\\xac.\\n\\n\\xe5\\xb0\\x8fbugs\\xe4\\xb8\\x80\\xe8\\x88\\xac\\xe5\\x9c\\xa8\\xe4\\xb8\\x8b\\xe4\\xb8\\x80\\xe4\\xb8\\xaa\\xe5\\x8f\\x91\\xe8\\xa1\\x8c\\xe7\\x89\\x88\\xe6\\x9c\\xac\\xe4\\xb8\\xad\\xe4\\xbf\\xae\\xe5\\xa4\\x8d,\\xe5\\xb9\\xb6\\xe5\\x9c\\xa8\\xe7\\xa8\\xb3\\xe5\\xae\\x9a\\xe5\\x88\\x86\\xe6\\x94\\xaf\\xe4\\xb8\\xad\\xe5\\x81\\x9abackports.\\n\\n\\xe5\\xa4\\xa7bugs\\xe4\\xbc\\x9a\\xe5\\x9c\\xa8\\xe5\\xbf\\x85\\xe8\\xa6\\x81\\xe6\\x97\\xb6\\xe5\\x87\\xba\\xe4\\xb8\\x80\\xe4\\xb8\\xaa\\xe7\\xbb\\xb4\\xe6\\x8a\\xa4\\xe7\\x89\\x88\\xe6\\x9c\\xac,\\xe4\\xb8\\x8d\\xe8\\xbf\\x87\\xe8\\xbf\\x99\\xe4\\xb8\\x8d\\xe6\\x98\\xaf\\xe5\\xbe\\x88\\xe9\\xa2\\x91\\xe7\\xb9\\x81.\\n\\n\\n\\xe8\\x8b\\xa5\\xe4\\xbd\\xa0\\xe5\\xb8\\x8c\\xe6\\x9c\\x9b\\xe4\\xbd\\xbf\\xe7\\x94\\xa8Ansible\\xe7\\x9a\\x84\\xe6\\x9c\\x80\\xe6\\x96\\xb0\\xe7\\x89\\x88\\xe6\\x9c\\xac,\\xe5\\xb9\\xb6\\xe4\\xb8\\x94\\xe4\\xbd\\xa0\\xe4\\xbd\\xbf\\xe7\\x94\\xa8\\xe7\\x9a\\x84\\xe6\\x93\\x8d\\xe4\\xbd\\x9c\\xe7\\xb3\\xbb\\xe7\\xbb\\x9f\\xe6\\x98\\xaf Red Hat Enterprise Linux (TM), CentOS, Fedora, Debian, Ubuntu,\\xe6\\x88\\x91\\xe4\\xbb\\xac\\xe5\\xbb\\xba\\xe8\\xae\\xae\\xe4\\xbd\\xbf\\xe7\\x94\\xa8\\xe7\\xb3\\xbb\\xe7\\xbb\\x9f\\xe7\\x9a\\x84\\xe8\\xbd\\xaf\\xe4\\xbb\\xb6\\xe5\\x8c\\x85\\xe7\\xae\\xa1\\xe7\\x90\\x86\\xe5\\x99\\xa8.\\n\\n\\n\\xe5\\x8f\\xa6\\xe6\\x9c\\x89\\xe4\\xb8\\x80\\xe7\\xa7\\x8d\\xe9\\x80\\x89\\xe6\\x8b\\xa9\\xe6\\x98\\xaf\\xe9\\x80\\x9a\\xe8\\xbf\\x87\\xe2\\x80\\x9dpip\\xe2\\x80\\x9d\\xe5\\xb7\\xa5\\xe5\\x85\\xb7\\xe5\\xae\\x89\\xe8\\xa3\\x85,\\xe2\\x80\\x9dpip\\xe2\\x80\\x9d\\xe6\\x98\\xaf\\xe4\\xb8\\x80\\xe4\\xb8\\xaa\\xe5\\xae\\x89\\xe8\\xa3\\x85\\xe5\\x92\\x8c\\xe7\\xae\\xa1\\xe7\\x90\\x86Python\\xe5\\x8c\\x85\\xe7\\x9a\\x84\\xe5\\xb7\\xa5\\xe5\\x85\\xb7.\\n\\n\\n\\xe8\\x8b\\xa5\\xe4\\xbd\\xa0\\xe5\\xb8\\x8c\\xe6\\x9c\\x9b\\xe8\\xb7\\x9f\\xe8\\xbf\\x9b\\xe5\\xbc\\x80\\xe5\\x8f\\x91\\xe7\\x89\\x88\\xe6\\x9c\\xac,\\xe6\\x83\\xb3\\xe4\\xbd\\xbf\\xe7\\x94\\xa8\\xe5\\x92\\x8c\\xe6\\xb5\\x8b\\xe8\\xaf\\x95\\xe6\\x9c\\x80\\xe6\\x96\\xb0\\xe7\\x9a\\x84\\xe5\\x8a\\x9f\\xe8\\x83\\xbd\\xe7\\x89\\xb9\\xe6\\x80\\xa7,\\xe6\\x88\\x91\\xe4\\xbb\\xac\\xe4\\xbc\\x9a\\xe5\\x88\\x86\\xe4\\xba\\xab\\xe5\\xa6\\x82\\xe4\\xbd\\x95\\xe4\\xbb\\x8e\\xe6\\xba\\x90\\xe7\\xa0\\x81\\xe8\\xbf\\x90\\xe8\\xa1\\x8cAnsible\\xe7\\x9a\\x84\\xe6\\x96\\xb9\\xe6\\xb3\\x95.\\n\\nQuestion: \\xe5\\xa6\\x82\\xe4\\xbd\\x95\\xe5\\xa4\\x84\\xe7\\x90\\x86\\xe9\\x9c\\x80\\xe8\\xa6\\x81\\xe4\\xb8\\x8d\\xe5\\x90\\x8c\\xe8\\xb4\\xa6\\xe6\\x88\\xb7\\xe4\\xb8\\x8e\\xe7\\xab\\xaf\\xe5\\x8f\\xa3\\xe7\\x99\\xbb\\xe5\\xbd\\x95\\xe7\\x9a\\x84\\xe4\\xb8\\x8d\\xe5\\x90\\x8c\\xe6\\x9c\\xba\\xe5\\x99\\xa8\\xef\\xbc\\x9f\\nHelpful Answer:\"\" n_tokens=-545",
     "output_type": "error",
     "traceback": [
      "\u001b[0;31m---------------------------------------------------------------------------\u001b[0m",
      "\u001b[0;31mRuntimeError\u001b[0m                              Traceback (most recent call last)",
      "Cell \u001b[0;32mIn[40], line 2\u001b[0m\n\u001b[1;32m      1\u001b[0m \u001b[39m# llama.cpp many tokens 的报错参考如下issue: https://github.com/ggerganov/llama.cpp/issues/385\u001b[39;00m\n\u001b[0;32m----> 2\u001b[0m chain\u001b[39m.\u001b[39;49mrun(input_documents\u001b[39m=\u001b[39;49mdocs, question\u001b[39m=\u001b[39;49mquery)\n",
      "File \u001b[0;32m/opt/homebrew/lib/python3.11/site-packages/langchain/chains/base.py:239\u001b[0m, in \u001b[0;36mChain.run\u001b[0;34m(self, callbacks, *args, **kwargs)\u001b[0m\n\u001b[1;32m    236\u001b[0m     \u001b[39mreturn\u001b[39;00m \u001b[39mself\u001b[39m(args[\u001b[39m0\u001b[39m], callbacks\u001b[39m=\u001b[39mcallbacks)[\u001b[39mself\u001b[39m\u001b[39m.\u001b[39moutput_keys[\u001b[39m0\u001b[39m]]\n\u001b[1;32m    238\u001b[0m \u001b[39mif\u001b[39;00m kwargs \u001b[39mand\u001b[39;00m \u001b[39mnot\u001b[39;00m args:\n\u001b[0;32m--> 239\u001b[0m     \u001b[39mreturn\u001b[39;00m \u001b[39mself\u001b[39;49m(kwargs, callbacks\u001b[39m=\u001b[39;49mcallbacks)[\u001b[39mself\u001b[39m\u001b[39m.\u001b[39moutput_keys[\u001b[39m0\u001b[39m]]\n\u001b[1;32m    241\u001b[0m \u001b[39mraise\u001b[39;00m \u001b[39mValueError\u001b[39;00m(\n\u001b[1;32m    242\u001b[0m     \u001b[39mf\u001b[39m\u001b[39m\"\u001b[39m\u001b[39m`run` supported with either positional arguments or keyword arguments\u001b[39m\u001b[39m\"\u001b[39m\n\u001b[1;32m    243\u001b[0m     \u001b[39mf\u001b[39m\u001b[39m\"\u001b[39m\u001b[39m but not both. Got args: \u001b[39m\u001b[39m{\u001b[39;00margs\u001b[39m}\u001b[39;00m\u001b[39m and kwargs: \u001b[39m\u001b[39m{\u001b[39;00mkwargs\u001b[39m}\u001b[39;00m\u001b[39m.\u001b[39m\u001b[39m\"\u001b[39m\n\u001b[1;32m    244\u001b[0m )\n",
      "File \u001b[0;32m/opt/homebrew/lib/python3.11/site-packages/langchain/chains/base.py:140\u001b[0m, in \u001b[0;36mChain.__call__\u001b[0;34m(self, inputs, return_only_outputs, callbacks)\u001b[0m\n\u001b[1;32m    138\u001b[0m \u001b[39mexcept\u001b[39;00m (\u001b[39mKeyboardInterrupt\u001b[39;00m, \u001b[39mException\u001b[39;00m) \u001b[39mas\u001b[39;00m e:\n\u001b[1;32m    139\u001b[0m     run_manager\u001b[39m.\u001b[39mon_chain_error(e)\n\u001b[0;32m--> 140\u001b[0m     \u001b[39mraise\u001b[39;00m e\n\u001b[1;32m    141\u001b[0m run_manager\u001b[39m.\u001b[39mon_chain_end(outputs)\n\u001b[1;32m    142\u001b[0m \u001b[39mreturn\u001b[39;00m \u001b[39mself\u001b[39m\u001b[39m.\u001b[39mprep_outputs(inputs, outputs, return_only_outputs)\n",
      "File \u001b[0;32m/opt/homebrew/lib/python3.11/site-packages/langchain/chains/base.py:134\u001b[0m, in \u001b[0;36mChain.__call__\u001b[0;34m(self, inputs, return_only_outputs, callbacks)\u001b[0m\n\u001b[1;32m    128\u001b[0m run_manager \u001b[39m=\u001b[39m callback_manager\u001b[39m.\u001b[39mon_chain_start(\n\u001b[1;32m    129\u001b[0m     {\u001b[39m\"\u001b[39m\u001b[39mname\u001b[39m\u001b[39m\"\u001b[39m: \u001b[39mself\u001b[39m\u001b[39m.\u001b[39m\u001b[39m__class__\u001b[39m\u001b[39m.\u001b[39m\u001b[39m__name__\u001b[39m},\n\u001b[1;32m    130\u001b[0m     inputs,\n\u001b[1;32m    131\u001b[0m )\n\u001b[1;32m    132\u001b[0m \u001b[39mtry\u001b[39;00m:\n\u001b[1;32m    133\u001b[0m     outputs \u001b[39m=\u001b[39m (\n\u001b[0;32m--> 134\u001b[0m         \u001b[39mself\u001b[39;49m\u001b[39m.\u001b[39;49m_call(inputs, run_manager\u001b[39m=\u001b[39;49mrun_manager)\n\u001b[1;32m    135\u001b[0m         \u001b[39mif\u001b[39;00m new_arg_supported\n\u001b[1;32m    136\u001b[0m         \u001b[39melse\u001b[39;00m \u001b[39mself\u001b[39m\u001b[39m.\u001b[39m_call(inputs)\n\u001b[1;32m    137\u001b[0m     )\n\u001b[1;32m    138\u001b[0m \u001b[39mexcept\u001b[39;00m (\u001b[39mKeyboardInterrupt\u001b[39;00m, \u001b[39mException\u001b[39;00m) \u001b[39mas\u001b[39;00m e:\n\u001b[1;32m    139\u001b[0m     run_manager\u001b[39m.\u001b[39mon_chain_error(e)\n",
      "File \u001b[0;32m/opt/homebrew/lib/python3.11/site-packages/langchain/chains/combine_documents/base.py:84\u001b[0m, in \u001b[0;36mBaseCombineDocumentsChain._call\u001b[0;34m(self, inputs, run_manager)\u001b[0m\n\u001b[1;32m     82\u001b[0m \u001b[39m# Other keys are assumed to be needed for LLM prediction\u001b[39;00m\n\u001b[1;32m     83\u001b[0m other_keys \u001b[39m=\u001b[39m {k: v \u001b[39mfor\u001b[39;00m k, v \u001b[39min\u001b[39;00m inputs\u001b[39m.\u001b[39mitems() \u001b[39mif\u001b[39;00m k \u001b[39m!=\u001b[39m \u001b[39mself\u001b[39m\u001b[39m.\u001b[39minput_key}\n\u001b[0;32m---> 84\u001b[0m output, extra_return_dict \u001b[39m=\u001b[39m \u001b[39mself\u001b[39;49m\u001b[39m.\u001b[39;49mcombine_docs(\n\u001b[1;32m     85\u001b[0m     docs, callbacks\u001b[39m=\u001b[39;49m_run_manager\u001b[39m.\u001b[39;49mget_child(), \u001b[39m*\u001b[39;49m\u001b[39m*\u001b[39;49mother_keys\n\u001b[1;32m     86\u001b[0m )\n\u001b[1;32m     87\u001b[0m extra_return_dict[\u001b[39mself\u001b[39m\u001b[39m.\u001b[39moutput_key] \u001b[39m=\u001b[39m output\n\u001b[1;32m     88\u001b[0m \u001b[39mreturn\u001b[39;00m extra_return_dict\n",
      "File \u001b[0;32m/opt/homebrew/lib/python3.11/site-packages/langchain/chains/combine_documents/stuff.py:87\u001b[0m, in \u001b[0;36mStuffDocumentsChain.combine_docs\u001b[0;34m(self, docs, callbacks, **kwargs)\u001b[0m\n\u001b[1;32m     85\u001b[0m inputs \u001b[39m=\u001b[39m \u001b[39mself\u001b[39m\u001b[39m.\u001b[39m_get_inputs(docs, \u001b[39m*\u001b[39m\u001b[39m*\u001b[39mkwargs)\n\u001b[1;32m     86\u001b[0m \u001b[39m# Call predict on the LLM.\u001b[39;00m\n\u001b[0;32m---> 87\u001b[0m \u001b[39mreturn\u001b[39;00m \u001b[39mself\u001b[39;49m\u001b[39m.\u001b[39;49mllm_chain\u001b[39m.\u001b[39;49mpredict(callbacks\u001b[39m=\u001b[39;49mcallbacks, \u001b[39m*\u001b[39;49m\u001b[39m*\u001b[39;49minputs), {}\n",
      "File \u001b[0;32m/opt/homebrew/lib/python3.11/site-packages/langchain/chains/llm.py:213\u001b[0m, in \u001b[0;36mLLMChain.predict\u001b[0;34m(self, callbacks, **kwargs)\u001b[0m\n\u001b[1;32m    198\u001b[0m \u001b[39mdef\u001b[39;00m \u001b[39mpredict\u001b[39m(\u001b[39mself\u001b[39m, callbacks: Callbacks \u001b[39m=\u001b[39m \u001b[39mNone\u001b[39;00m, \u001b[39m*\u001b[39m\u001b[39m*\u001b[39mkwargs: Any) \u001b[39m-\u001b[39m\u001b[39m>\u001b[39m \u001b[39mstr\u001b[39m:\n\u001b[1;32m    199\u001b[0m \u001b[39m    \u001b[39m\u001b[39m\"\"\"Format prompt with kwargs and pass to LLM.\u001b[39;00m\n\u001b[1;32m    200\u001b[0m \n\u001b[1;32m    201\u001b[0m \u001b[39m    Args:\u001b[39;00m\n\u001b[0;32m   (...)\u001b[0m\n\u001b[1;32m    211\u001b[0m \u001b[39m            completion = llm.predict(adjective=\"funny\")\u001b[39;00m\n\u001b[1;32m    212\u001b[0m \u001b[39m    \"\"\"\u001b[39;00m\n\u001b[0;32m--> 213\u001b[0m     \u001b[39mreturn\u001b[39;00m \u001b[39mself\u001b[39;49m(kwargs, callbacks\u001b[39m=\u001b[39;49mcallbacks)[\u001b[39mself\u001b[39m\u001b[39m.\u001b[39moutput_key]\n",
      "File \u001b[0;32m/opt/homebrew/lib/python3.11/site-packages/langchain/chains/base.py:140\u001b[0m, in \u001b[0;36mChain.__call__\u001b[0;34m(self, inputs, return_only_outputs, callbacks)\u001b[0m\n\u001b[1;32m    138\u001b[0m \u001b[39mexcept\u001b[39;00m (\u001b[39mKeyboardInterrupt\u001b[39;00m, \u001b[39mException\u001b[39;00m) \u001b[39mas\u001b[39;00m e:\n\u001b[1;32m    139\u001b[0m     run_manager\u001b[39m.\u001b[39mon_chain_error(e)\n\u001b[0;32m--> 140\u001b[0m     \u001b[39mraise\u001b[39;00m e\n\u001b[1;32m    141\u001b[0m run_manager\u001b[39m.\u001b[39mon_chain_end(outputs)\n\u001b[1;32m    142\u001b[0m \u001b[39mreturn\u001b[39;00m \u001b[39mself\u001b[39m\u001b[39m.\u001b[39mprep_outputs(inputs, outputs, return_only_outputs)\n",
      "File \u001b[0;32m/opt/homebrew/lib/python3.11/site-packages/langchain/chains/base.py:134\u001b[0m, in \u001b[0;36mChain.__call__\u001b[0;34m(self, inputs, return_only_outputs, callbacks)\u001b[0m\n\u001b[1;32m    128\u001b[0m run_manager \u001b[39m=\u001b[39m callback_manager\u001b[39m.\u001b[39mon_chain_start(\n\u001b[1;32m    129\u001b[0m     {\u001b[39m\"\u001b[39m\u001b[39mname\u001b[39m\u001b[39m\"\u001b[39m: \u001b[39mself\u001b[39m\u001b[39m.\u001b[39m\u001b[39m__class__\u001b[39m\u001b[39m.\u001b[39m\u001b[39m__name__\u001b[39m},\n\u001b[1;32m    130\u001b[0m     inputs,\n\u001b[1;32m    131\u001b[0m )\n\u001b[1;32m    132\u001b[0m \u001b[39mtry\u001b[39;00m:\n\u001b[1;32m    133\u001b[0m     outputs \u001b[39m=\u001b[39m (\n\u001b[0;32m--> 134\u001b[0m         \u001b[39mself\u001b[39;49m\u001b[39m.\u001b[39;49m_call(inputs, run_manager\u001b[39m=\u001b[39;49mrun_manager)\n\u001b[1;32m    135\u001b[0m         \u001b[39mif\u001b[39;00m new_arg_supported\n\u001b[1;32m    136\u001b[0m         \u001b[39melse\u001b[39;00m \u001b[39mself\u001b[39m\u001b[39m.\u001b[39m_call(inputs)\n\u001b[1;32m    137\u001b[0m     )\n\u001b[1;32m    138\u001b[0m \u001b[39mexcept\u001b[39;00m (\u001b[39mKeyboardInterrupt\u001b[39;00m, \u001b[39mException\u001b[39;00m) \u001b[39mas\u001b[39;00m e:\n\u001b[1;32m    139\u001b[0m     run_manager\u001b[39m.\u001b[39mon_chain_error(e)\n",
      "File \u001b[0;32m/opt/homebrew/lib/python3.11/site-packages/langchain/chains/llm.py:69\u001b[0m, in \u001b[0;36mLLMChain._call\u001b[0;34m(self, inputs, run_manager)\u001b[0m\n\u001b[1;32m     64\u001b[0m \u001b[39mdef\u001b[39;00m \u001b[39m_call\u001b[39m(\n\u001b[1;32m     65\u001b[0m     \u001b[39mself\u001b[39m,\n\u001b[1;32m     66\u001b[0m     inputs: Dict[\u001b[39mstr\u001b[39m, Any],\n\u001b[1;32m     67\u001b[0m     run_manager: Optional[CallbackManagerForChainRun] \u001b[39m=\u001b[39m \u001b[39mNone\u001b[39;00m,\n\u001b[1;32m     68\u001b[0m ) \u001b[39m-\u001b[39m\u001b[39m>\u001b[39m Dict[\u001b[39mstr\u001b[39m, \u001b[39mstr\u001b[39m]:\n\u001b[0;32m---> 69\u001b[0m     response \u001b[39m=\u001b[39m \u001b[39mself\u001b[39;49m\u001b[39m.\u001b[39;49mgenerate([inputs], run_manager\u001b[39m=\u001b[39;49mrun_manager)\n\u001b[1;32m     70\u001b[0m     \u001b[39mreturn\u001b[39;00m \u001b[39mself\u001b[39m\u001b[39m.\u001b[39mcreate_outputs(response)[\u001b[39m0\u001b[39m]\n",
      "File \u001b[0;32m/opt/homebrew/lib/python3.11/site-packages/langchain/chains/llm.py:79\u001b[0m, in \u001b[0;36mLLMChain.generate\u001b[0;34m(self, input_list, run_manager)\u001b[0m\n\u001b[1;32m     77\u001b[0m \u001b[39m\u001b[39m\u001b[39m\"\"\"Generate LLM result from inputs.\"\"\"\u001b[39;00m\n\u001b[1;32m     78\u001b[0m prompts, stop \u001b[39m=\u001b[39m \u001b[39mself\u001b[39m\u001b[39m.\u001b[39mprep_prompts(input_list, run_manager\u001b[39m=\u001b[39mrun_manager)\n\u001b[0;32m---> 79\u001b[0m \u001b[39mreturn\u001b[39;00m \u001b[39mself\u001b[39;49m\u001b[39m.\u001b[39;49mllm\u001b[39m.\u001b[39;49mgenerate_prompt(\n\u001b[1;32m     80\u001b[0m     prompts, stop, callbacks\u001b[39m=\u001b[39;49mrun_manager\u001b[39m.\u001b[39;49mget_child() \u001b[39mif\u001b[39;49;00m run_manager \u001b[39melse\u001b[39;49;00m \u001b[39mNone\u001b[39;49;00m\n\u001b[1;32m     81\u001b[0m )\n",
      "File \u001b[0;32m/opt/homebrew/lib/python3.11/site-packages/langchain/llms/base.py:127\u001b[0m, in \u001b[0;36mBaseLLM.generate_prompt\u001b[0;34m(self, prompts, stop, callbacks)\u001b[0m\n\u001b[1;32m    120\u001b[0m \u001b[39mdef\u001b[39;00m \u001b[39mgenerate_prompt\u001b[39m(\n\u001b[1;32m    121\u001b[0m     \u001b[39mself\u001b[39m,\n\u001b[1;32m    122\u001b[0m     prompts: List[PromptValue],\n\u001b[1;32m    123\u001b[0m     stop: Optional[List[\u001b[39mstr\u001b[39m]] \u001b[39m=\u001b[39m \u001b[39mNone\u001b[39;00m,\n\u001b[1;32m    124\u001b[0m     callbacks: Callbacks \u001b[39m=\u001b[39m \u001b[39mNone\u001b[39;00m,\n\u001b[1;32m    125\u001b[0m ) \u001b[39m-\u001b[39m\u001b[39m>\u001b[39m LLMResult:\n\u001b[1;32m    126\u001b[0m     prompt_strings \u001b[39m=\u001b[39m [p\u001b[39m.\u001b[39mto_string() \u001b[39mfor\u001b[39;00m p \u001b[39min\u001b[39;00m prompts]\n\u001b[0;32m--> 127\u001b[0m     \u001b[39mreturn\u001b[39;00m \u001b[39mself\u001b[39;49m\u001b[39m.\u001b[39;49mgenerate(prompt_strings, stop\u001b[39m=\u001b[39;49mstop, callbacks\u001b[39m=\u001b[39;49mcallbacks)\n",
      "File \u001b[0;32m/opt/homebrew/lib/python3.11/site-packages/langchain/llms/base.py:176\u001b[0m, in \u001b[0;36mBaseLLM.generate\u001b[0;34m(self, prompts, stop, callbacks)\u001b[0m\n\u001b[1;32m    174\u001b[0m \u001b[39mexcept\u001b[39;00m (\u001b[39mKeyboardInterrupt\u001b[39;00m, \u001b[39mException\u001b[39;00m) \u001b[39mas\u001b[39;00m e:\n\u001b[1;32m    175\u001b[0m     run_manager\u001b[39m.\u001b[39mon_llm_error(e)\n\u001b[0;32m--> 176\u001b[0m     \u001b[39mraise\u001b[39;00m e\n\u001b[1;32m    177\u001b[0m run_manager\u001b[39m.\u001b[39mon_llm_end(output)\n\u001b[1;32m    178\u001b[0m \u001b[39mreturn\u001b[39;00m output\n",
      "File \u001b[0;32m/opt/homebrew/lib/python3.11/site-packages/langchain/llms/base.py:170\u001b[0m, in \u001b[0;36mBaseLLM.generate\u001b[0;34m(self, prompts, stop, callbacks)\u001b[0m\n\u001b[1;32m    165\u001b[0m run_manager \u001b[39m=\u001b[39m callback_manager\u001b[39m.\u001b[39mon_llm_start(\n\u001b[1;32m    166\u001b[0m     {\u001b[39m\"\u001b[39m\u001b[39mname\u001b[39m\u001b[39m\"\u001b[39m: \u001b[39mself\u001b[39m\u001b[39m.\u001b[39m\u001b[39m__class__\u001b[39m\u001b[39m.\u001b[39m\u001b[39m__name__\u001b[39m}, prompts\n\u001b[1;32m    167\u001b[0m )\n\u001b[1;32m    168\u001b[0m \u001b[39mtry\u001b[39;00m:\n\u001b[1;32m    169\u001b[0m     output \u001b[39m=\u001b[39m (\n\u001b[0;32m--> 170\u001b[0m         \u001b[39mself\u001b[39;49m\u001b[39m.\u001b[39;49m_generate(prompts, stop\u001b[39m=\u001b[39;49mstop, run_manager\u001b[39m=\u001b[39;49mrun_manager)\n\u001b[1;32m    171\u001b[0m         \u001b[39mif\u001b[39;00m new_arg_supported\n\u001b[1;32m    172\u001b[0m         \u001b[39melse\u001b[39;00m \u001b[39mself\u001b[39m\u001b[39m.\u001b[39m_generate(prompts, stop\u001b[39m=\u001b[39mstop)\n\u001b[1;32m    173\u001b[0m     )\n\u001b[1;32m    174\u001b[0m \u001b[39mexcept\u001b[39;00m (\u001b[39mKeyboardInterrupt\u001b[39;00m, \u001b[39mException\u001b[39;00m) \u001b[39mas\u001b[39;00m e:\n\u001b[1;32m    175\u001b[0m     run_manager\u001b[39m.\u001b[39mon_llm_error(e)\n",
      "File \u001b[0;32m/opt/homebrew/lib/python3.11/site-packages/langchain/llms/base.py:377\u001b[0m, in \u001b[0;36mLLM._generate\u001b[0;34m(self, prompts, stop, run_manager)\u001b[0m\n\u001b[1;32m    374\u001b[0m new_arg_supported \u001b[39m=\u001b[39m inspect\u001b[39m.\u001b[39msignature(\u001b[39mself\u001b[39m\u001b[39m.\u001b[39m_call)\u001b[39m.\u001b[39mparameters\u001b[39m.\u001b[39mget(\u001b[39m\"\u001b[39m\u001b[39mrun_manager\u001b[39m\u001b[39m\"\u001b[39m)\n\u001b[1;32m    375\u001b[0m \u001b[39mfor\u001b[39;00m prompt \u001b[39min\u001b[39;00m prompts:\n\u001b[1;32m    376\u001b[0m     text \u001b[39m=\u001b[39m (\n\u001b[0;32m--> 377\u001b[0m         \u001b[39mself\u001b[39;49m\u001b[39m.\u001b[39;49m_call(prompt, stop\u001b[39m=\u001b[39;49mstop, run_manager\u001b[39m=\u001b[39;49mrun_manager)\n\u001b[1;32m    378\u001b[0m         \u001b[39mif\u001b[39;00m new_arg_supported\n\u001b[1;32m    379\u001b[0m         \u001b[39melse\u001b[39;00m \u001b[39mself\u001b[39m\u001b[39m.\u001b[39m_call(prompt, stop\u001b[39m=\u001b[39mstop)\n\u001b[1;32m    380\u001b[0m     )\n\u001b[1;32m    381\u001b[0m     generations\u001b[39m.\u001b[39mappend([Generation(text\u001b[39m=\u001b[39mtext)])\n\u001b[1;32m    382\u001b[0m \u001b[39mreturn\u001b[39;00m LLMResult(generations\u001b[39m=\u001b[39mgenerations)\n",
      "File \u001b[0;32m/opt/homebrew/lib/python3.11/site-packages/langchain/llms/llamacpp.py:228\u001b[0m, in \u001b[0;36mLlamaCpp._call\u001b[0;34m(self, prompt, stop, run_manager)\u001b[0m\n\u001b[1;32m    223\u001b[0m \u001b[39mif\u001b[39;00m \u001b[39mself\u001b[39m\u001b[39m.\u001b[39mstreaming:\n\u001b[1;32m    224\u001b[0m     \u001b[39m# If streaming is enabled, we use the stream\u001b[39;00m\n\u001b[1;32m    225\u001b[0m     \u001b[39m# method that yields as they are generated\u001b[39;00m\n\u001b[1;32m    226\u001b[0m     \u001b[39m# and return the combined strings from the first choices's text:\u001b[39;00m\n\u001b[1;32m    227\u001b[0m     combined_text_output \u001b[39m=\u001b[39m \u001b[39m\"\u001b[39m\u001b[39m\"\u001b[39m\n\u001b[0;32m--> 228\u001b[0m     \u001b[39mfor\u001b[39;00m token \u001b[39min\u001b[39;00m \u001b[39mself\u001b[39m\u001b[39m.\u001b[39mstream(prompt\u001b[39m=\u001b[39mprompt, stop\u001b[39m=\u001b[39mstop, run_manager\u001b[39m=\u001b[39mrun_manager):\n\u001b[1;32m    229\u001b[0m         combined_text_output \u001b[39m+\u001b[39m\u001b[39m=\u001b[39m token[\u001b[39m\"\u001b[39m\u001b[39mchoices\u001b[39m\u001b[39m\"\u001b[39m][\u001b[39m0\u001b[39m][\u001b[39m\"\u001b[39m\u001b[39mtext\u001b[39m\u001b[39m\"\u001b[39m]\n\u001b[1;32m    230\u001b[0m     \u001b[39mreturn\u001b[39;00m combined_text_output\n",
      "File \u001b[0;32m/opt/homebrew/lib/python3.11/site-packages/langchain/llms/llamacpp.py:277\u001b[0m, in \u001b[0;36mLlamaCpp.stream\u001b[0;34m(self, prompt, stop, run_manager)\u001b[0m\n\u001b[1;32m    275\u001b[0m params \u001b[39m=\u001b[39m \u001b[39mself\u001b[39m\u001b[39m.\u001b[39m_get_parameters(stop)\n\u001b[1;32m    276\u001b[0m result \u001b[39m=\u001b[39m \u001b[39mself\u001b[39m\u001b[39m.\u001b[39mclient(prompt\u001b[39m=\u001b[39mprompt, stream\u001b[39m=\u001b[39m\u001b[39mTrue\u001b[39;00m, \u001b[39m*\u001b[39m\u001b[39m*\u001b[39mparams)\n\u001b[0;32m--> 277\u001b[0m \u001b[39mfor\u001b[39;00m chunk \u001b[39min\u001b[39;00m result:\n\u001b[1;32m    278\u001b[0m     token \u001b[39m=\u001b[39m chunk[\u001b[39m\"\u001b[39m\u001b[39mchoices\u001b[39m\u001b[39m\"\u001b[39m][\u001b[39m0\u001b[39m][\u001b[39m\"\u001b[39m\u001b[39mtext\u001b[39m\u001b[39m\"\u001b[39m]\n\u001b[1;32m    279\u001b[0m     log_probs \u001b[39m=\u001b[39m chunk[\u001b[39m\"\u001b[39m\u001b[39mchoices\u001b[39m\u001b[39m\"\u001b[39m][\u001b[39m0\u001b[39m]\u001b[39m.\u001b[39mget(\u001b[39m\"\u001b[39m\u001b[39mlogprobs\u001b[39m\u001b[39m\"\u001b[39m, \u001b[39mNone\u001b[39;00m)\n",
      "File \u001b[0;32m/opt/homebrew/lib/python3.11/site-packages/llama_cpp/llama.py:506\u001b[0m, in \u001b[0;36mLlama._create_completion\u001b[0;34m(self, prompt, suffix, max_tokens, temperature, top_p, logprobs, echo, stop, repeat_penalty, top_k, stream)\u001b[0m\n\u001b[1;32m    504\u001b[0m completion_tokens: List[llama_cpp\u001b[39m.\u001b[39mllama_token] \u001b[39m=\u001b[39m []\n\u001b[1;32m    505\u001b[0m \u001b[39m# Add blank space to start of prompt to match OG llama tokenizer\u001b[39;00m\n\u001b[0;32m--> 506\u001b[0m prompt_tokens: List[llama_cpp\u001b[39m.\u001b[39mllama_token] \u001b[39m=\u001b[39m \u001b[39mself\u001b[39;49m\u001b[39m.\u001b[39;49mtokenize(\n\u001b[1;32m    507\u001b[0m     \u001b[39mb\u001b[39;49m\u001b[39m\"\u001b[39;49m\u001b[39m \u001b[39;49m\u001b[39m\"\u001b[39;49m \u001b[39m+\u001b[39;49m prompt\u001b[39m.\u001b[39;49mencode(\u001b[39m\"\u001b[39;49m\u001b[39mutf-8\u001b[39;49m\u001b[39m\"\u001b[39;49m)\n\u001b[1;32m    508\u001b[0m )\n\u001b[1;32m    509\u001b[0m text: \u001b[39mbytes\u001b[39m \u001b[39m=\u001b[39m \u001b[39mb\u001b[39m\u001b[39m\"\u001b[39m\u001b[39m\"\u001b[39m\n\u001b[1;32m    510\u001b[0m returned_characters: \u001b[39mint\u001b[39m \u001b[39m=\u001b[39m \u001b[39m0\u001b[39m\n",
      "File \u001b[0;32m/opt/homebrew/lib/python3.11/site-packages/llama_cpp/llama.py:189\u001b[0m, in \u001b[0;36mLlama.tokenize\u001b[0;34m(self, text)\u001b[0m\n\u001b[1;32m    181\u001b[0m n_tokens \u001b[39m=\u001b[39m llama_cpp\u001b[39m.\u001b[39mllama_tokenize(\n\u001b[1;32m    182\u001b[0m     \u001b[39mself\u001b[39m\u001b[39m.\u001b[39mctx,\n\u001b[1;32m    183\u001b[0m     text,\n\u001b[0;32m   (...)\u001b[0m\n\u001b[1;32m    186\u001b[0m     llama_cpp\u001b[39m.\u001b[39mc_bool(\u001b[39mTrue\u001b[39;00m),\n\u001b[1;32m    187\u001b[0m )\n\u001b[1;32m    188\u001b[0m \u001b[39mif\u001b[39;00m \u001b[39mint\u001b[39m(n_tokens) \u001b[39m<\u001b[39m \u001b[39m0\u001b[39m:\n\u001b[0;32m--> 189\u001b[0m     \u001b[39mraise\u001b[39;00m \u001b[39mRuntimeError\u001b[39;00m(\u001b[39mf\u001b[39m\u001b[39m'\u001b[39m\u001b[39mFailed to tokenize: text=\u001b[39m\u001b[39m\"\u001b[39m\u001b[39m{\u001b[39;00mtext\u001b[39m}\u001b[39;00m\u001b[39m\"\u001b[39m\u001b[39m n_tokens=\u001b[39m\u001b[39m{\u001b[39;00mn_tokens\u001b[39m}\u001b[39;00m\u001b[39m'\u001b[39m)\n\u001b[1;32m    190\u001b[0m \u001b[39mreturn\u001b[39;00m \u001b[39mlist\u001b[39m(tokens[:n_tokens])\n",
      "\u001b[0;31mRuntimeError\u001b[0m: Failed to tokenize: text=\"b\" Use the following pieces of context to answer the question at the end. If you don't know the answer, just say that you don't know, don't try to make up an answer.\\n\\nInstallation\\n\\nTopics\\n\\nInstallation\\n\\xe4\\xbb\\x8eGithub\\xe8\\x8e\\xb7\\xe5\\x8f\\x96Ansible\\n\\xe9\\x9c\\x80\\xe8\\xa6\\x81\\xe5\\xae\\x89\\xe8\\xa3\\x85\\xe4\\xba\\x9b\\xe4\\xbb\\x80\\xe4\\xb9\\x88\\n\\xe9\\x80\\x89\\xe6\\x8b\\xa9\\xe5\\x93\\xaa\\xe4\\xb8\\x80\\xe4\\xb8\\xaa\\xe7\\x89\\x88\\xe6\\x9c\\xac?\\n\\xe5\\xaf\\xb9\\xe7\\xae\\xa1\\xe7\\x90\\x86\\xe4\\xb8\\xbb\\xe6\\x9c\\xba\\xe7\\x9a\\x84\\xe8\\xa6\\x81\\xe6\\xb1\\x82\\n\\xe5\\xaf\\xb9\\xe6\\x89\\x98\\xe7\\xae\\xa1\\xe8\\x8a\\x82\\xe7\\x82\\xb9\\xe7\\x9a\\x84\\xe8\\xa6\\x81\\xe6\\xb1\\x82\\n\\xe5\\xae\\x89\\xe8\\xa3\\x85\\xe7\\xae\\xa1\\xe7\\x90\\x86\\xe4\\xb8\\xbb\\xe6\\x9c\\xba\\n\\xe4\\xbb\\x8e\\xe6\\xba\\x90\\xe7\\xa0\\x81\\xe8\\xbf\\x90\\xe8\\xa1\\x8c\\n\\xe9\\x80\\x9a\\xe8\\xbf\\x87Yum\\xe5\\xae\\x89\\xe8\\xa3\\x85\\xe6\\x9c\\x80\\xe6\\x96\\xb0\\xe5\\x8f\\x91\\xe5\\xb8\\x83\\xe7\\x89\\x88\\xe6\\x9c\\xac\\n\\xe9\\x80\\x9a\\xe8\\xbf\\x87Apt (Ubuntu)\\xe5\\xae\\x89\\xe8\\xa3\\x85\\xe6\\x9c\\x80\\xe6\\x96\\xb0\\xe5\\x8f\\x91\\xe5\\xb8\\x83\\xe7\\x89\\x88\\xe6\\x9c\\xac\\n\\xe9\\x80\\x9a\\xe8\\xbf\\x87 Portage (Gentoo)\\xe5\\xae\\x89\\xe8\\xa3\\x85\\xe6\\x9c\\x80\\xe6\\x96\\xb0\\xe5\\x8f\\x91\\xe5\\xb8\\x83\\xe7\\x89\\x88\\xe6\\x9c\\xac\\n\\xe9\\x80\\x9a\\xe8\\xbf\\x87 pkg (FreeBSD)\\xe5\\xae\\x89\\xe8\\xa3\\x85\\xe6\\x9c\\x80\\xe6\\x96\\xb0\\xe5\\x8f\\x91\\xe5\\xb8\\x83\\xe7\\x89\\x88\\xe6\\x9c\\xac\\n\\xe5\\x9c\\xa8Mac OSX \\xe4\\xb8\\x8a\\xe5\\xae\\x89\\xe8\\xa3\\x85\\xe6\\x9c\\x80\\xe6\\x96\\xb0\\xe5\\x8f\\x91\\xe5\\xb8\\x83\\xe7\\x89\\x88\\xe6\\x9c\\xac\\n\\xe9\\x80\\x9a\\xe8\\xbf\\x87 OpenCSW \\xe5\\xae\\x89\\xe8\\xa3\\x85\\xe6\\x9c\\x80\\xe6\\x96\\xb0\\xe5\\x8f\\x91\\xe5\\xb8\\x83\\xe7\\x89\\x88\\xe6\\x9c\\xac(Solaris)\\n\\xe9\\x80\\x9a\\xe8\\xbf\\x87 Pacman \\xe5\\xae\\x89\\xe8\\xa3\\x85\\xe6\\x9c\\x80\\xe6\\x96\\xb0\\xe5\\x8f\\x91\\xe5\\xb8\\x83\\xe7\\x89\\x88\\xe6\\x9c\\xac(Arch Linux)\\n\\xe9\\x80\\x9a\\xe8\\xbf\\x87 Pip \\xe5\\xae\\x89\\xe8\\xa3\\x85\\xe6\\x9c\\x80\\xe6\\x96\\xb0\\xe5\\x8f\\x91\\xe5\\xb8\\x83\\xe7\\x89\\x88\\xe6\\x9c\\xac\\n\\xe5\\x8f\\x91\\xe8\\xa1\\x8c\\xe7\\x89\\x88\\xe7\\x9a\\x84Tarball\\n\\n\\n\\n\\n\\n\\n\\n\\xe4\\xbb\\x8eGithub\\xe8\\x8e\\xb7\\xe5\\x8f\\x96Ansible\\n\\xe5\\xa6\\x82\\xe6\\x9e\\x9c\\xe4\\xbd\\xa0\\xe6\\x9c\\x89\\xe4\\xb8\\x80\\xe4\\xb8\\xaagithub\\xe8\\xb4\\xa6\\xe6\\x88\\xb7,\\xe5\\x8f\\xaf\\xe4\\xbb\\xa5\\xe8\\xb7\\x9f\\xe8\\xbf\\x9bAnsible\\xe5\\x9c\\xa8Github\\xe7\\x9a\\x84\\xe9\\xa1\\xb9\\xe7\\x9b\\xae: Github project \\xe6\\x88\\x91\\xe4\\xbb\\xac\\xe5\\x9c\\xa8\\xe8\\xbf\\x99\\xe9\\x87\\x8c\\xe4\\xbf\\x9d\\xe6\\x8c\\x81\\xe5\\xaf\\xb9bugs\\xe5\\x92\\x8cfeature ideas\\xe7\\x9a\\x84\\xe8\\xb7\\x9f\\xe8\\xb8\\xaa.\\n\\n\\n\\xe9\\x9c\\x80\\xe8\\xa6\\x81\\xe5\\xae\\x89\\xe8\\xa3\\x85\\xe4\\xba\\x9b\\xe4\\xbb\\x80\\xe4\\xb9\\x88\\nAnsible\\xe9\\xbb\\x98\\xe8\\xae\\xa4\\xe9\\x80\\x9a\\xe8\\xbf\\x87  SSH \\xe5\\x8d\\x8f\\xe8\\xae\\xae\\xe7\\xae\\xa1\\xe7\\x90\\x86\\xe6\\x9c\\xba\\xe5\\x99\\xa8.\\n\\xe5\\xae\\x89\\xe8\\xa3\\x85Ansible\\xe4\\xb9\\x8b\\xe5\\x90\\x8e,\\xe4\\xb8\\x8d\\xe9\\x9c\\x80\\xe8\\xa6\\x81\\xe5\\x90\\xaf\\xe5\\x8a\\xa8\\xe6\\x88\\x96\\xe8\\xbf\\x90\\xe8\\xa1\\x8c\\xe4\\xb8\\x80\\xe4\\xb8\\xaa\\xe5\\x90\\x8e\\xe5\\x8f\\xb0\\xe8\\xbf\\x9b\\xe7\\xa8\\x8b,\\xe6\\x88\\x96\\xe6\\x98\\xaf\\xe6\\xb7\\xbb\\xe5\\x8a\\xa0\\xe4\\xb8\\x80\\xe4\\xb8\\xaa\\xe6\\x95\\xb0\\xe6\\x8d\\xae\\xe5\\xba\\x93.\\n\\n\\xe5\\x8f\\xaa\\xe8\\xa6\\x81\\xe5\\x9c\\xa8\\xe4\\xb8\\x80\\xe5\\x8f\\xb0\\xe7\\x94\\xb5\\xe8\\x84\\x91(\\xe5\\x8f\\xaf\\xe4\\xbb\\xa5\\xe6\\x98\\xaf\\xe4\\xb8\\x80\\xe5\\x8f\\xb0\\xe7\\xac\\x94\\xe8\\xae\\xb0\\xe6\\x9c\\xac)\\xe4\\xb8\\x8a\\xe5\\xae\\x89\\xe8\\xa3\\x85\\xe5\\xa5\\xbd,\\xe5\\xb0\\xb1\\xe5\\x8f\\xaf\\xe4\\xbb\\xa5\\xe9\\x80\\x9a\\xe8\\xbf\\x87\\xe8\\xbf\\x99\\xe5\\x8f\\xb0\\xe7\\x94\\xb5\\xe8\\x84\\x91\\xe7\\xae\\xa1\\xe7\\x90\\x86\\xe4\\xb8\\x80\\xe7\\xbb\\x84\\xe8\\xbf\\x9c\\xe7\\xa8\\x8b\\xe7\\x9a\\x84\\xe6\\x9c\\xba\\xe5\\x99\\xa8.\\n\\n\\xe5\\x9c\\xa8\\xe8\\xbf\\x9c\\xe7\\xa8\\x8b\\xe8\\xa2\\xab\\xe7\\xae\\xa1\\xe7\\x90\\x86\\xe7\\x9a\\x84\\xe6\\x9c\\xba\\xe5\\x99\\xa8\\xe4\\xb8\\x8a,\\xe4\\xb8\\x8d\\xe9\\x9c\\x80\\xe8\\xa6\\x81\\xe5\\xae\\x89\\xe8\\xa3\\x85\\xe8\\xbf\\x90\\xe8\\xa1\\x8c\\xe4\\xbb\\xbb\\xe4\\xbd\\x95\\xe8\\xbd\\xaf\\xe4\\xbb\\xb6,\\xe5\\x9b\\xa0\\xe6\\xad\\xa4\\xe5\\x8d\\x87\\xe7\\xba\\xa7Ansible\\xe7\\x89\\x88\\xe6\\x9c\\xac\\xe4\\xb8\\x8d\\xe4\\xbc\\x9a\\xe6\\x9c\\x89\\xe5\\xa4\\xaa\\xe5\\xa4\\x9a\\xe9\\x97\\xae\\xe9\\xa2\\x98.\\n\\n\\n\\xe9\\x80\\x89\\xe6\\x8b\\xa9\\xe5\\x93\\xaa\\xe4\\xb8\\x80\\xe4\\xb8\\xaa\\xe7\\x89\\x88\\xe6\\x9c\\xac?\\n\\n\\n\\xe5\\x9b\\xa0\\xe4\\xb8\\xbaAnsible\\xe5\\x8f\\xaf\\xe4\\xbb\\xa5\\xe5\\xbe\\x88\\xe7\\xae\\x80\\xe5\\x8d\\x95\\xe7\\x9a\\x84\\xe4\\xbb\\x8e\\xe6\\xba\\x90\\xe7\\xa0\\x81\\xe8\\xbf\\x90\\xe8\\xa1\\x8c,\\xe4\\xb8\\x94\\xe4\\xb8\\x8d\\xe5\\xbf\\x85\\xe5\\x9c\\xa8\\xe8\\xbf\\x9c\\xe7\\xa8\\x8b\\xe8\\xa2\\xab\\xe7\\xae\\xa1\\xe7\\x90\\x86\\xe6\\x9c\\xba\\xe5\\x99\\xa8\\xe4\\xb8\\x8a\\xe5\\xae\\x89\\xe8\\xa3\\x85\\xe4\\xbb\\xbb\\xe4\\xbd\\x95\\xe8\\xbd\\xaf\\xe4\\xbb\\xb6,\\xe5\\xbe\\x88\\xe5\\xa4\\x9aAnsible\\xe7\\x94\\xa8\\xe6\\x88\\xb7\\xe4\\xbc\\x9a\\xe8\\xb7\\x9f\\xe8\\xbf\\x9b\\xe4\\xbd\\xbf\\xe7\\x94\\xa8\\xe5\\xbc\\x80\\xe5\\x8f\\x91\\xe7\\x89\\x88\\xe6\\x9c\\xac.\\nAnsible\\xe4\\xb8\\x80\\xe8\\x88\\xac\\xe6\\xaf\\x8f\\xe4\\xb8\\xa4\\xe4\\xb8\\xaa\\xe6\\x9c\\x88\\xe5\\x87\\xba\\xe4\\xb8\\x80\\xe4\\xb8\\xaa\\xe5\\x8f\\x91\\xe8\\xa1\\x8c\\xe7\\x89\\x88\\xe6\\x9c\\xac.\\n\\n\\xe5\\xb0\\x8fbugs\\xe4\\xb8\\x80\\xe8\\x88\\xac\\xe5\\x9c\\xa8\\xe4\\xb8\\x8b\\xe4\\xb8\\x80\\xe4\\xb8\\xaa\\xe5\\x8f\\x91\\xe8\\xa1\\x8c\\xe7\\x89\\x88\\xe6\\x9c\\xac\\xe4\\xb8\\xad\\xe4\\xbf\\xae\\xe5\\xa4\\x8d,\\xe5\\xb9\\xb6\\xe5\\x9c\\xa8\\xe7\\xa8\\xb3\\xe5\\xae\\x9a\\xe5\\x88\\x86\\xe6\\x94\\xaf\\xe4\\xb8\\xad\\xe5\\x81\\x9abackports.\\n\\n\\xe5\\xa4\\xa7bugs\\xe4\\xbc\\x9a\\xe5\\x9c\\xa8\\xe5\\xbf\\x85\\xe8\\xa6\\x81\\xe6\\x97\\xb6\\xe5\\x87\\xba\\xe4\\xb8\\x80\\xe4\\xb8\\xaa\\xe7\\xbb\\xb4\\xe6\\x8a\\xa4\\xe7\\x89\\x88\\xe6\\x9c\\xac,\\xe4\\xb8\\x8d\\xe8\\xbf\\x87\\xe8\\xbf\\x99\\xe4\\xb8\\x8d\\xe6\\x98\\xaf\\xe5\\xbe\\x88\\xe9\\xa2\\x91\\xe7\\xb9\\x81.\\n\\n\\n\\xe8\\x8b\\xa5\\xe4\\xbd\\xa0\\xe5\\xb8\\x8c\\xe6\\x9c\\x9b\\xe4\\xbd\\xbf\\xe7\\x94\\xa8Ansible\\xe7\\x9a\\x84\\xe6\\x9c\\x80\\xe6\\x96\\xb0\\xe7\\x89\\x88\\xe6\\x9c\\xac,\\xe5\\xb9\\xb6\\xe4\\xb8\\x94\\xe4\\xbd\\xa0\\xe4\\xbd\\xbf\\xe7\\x94\\xa8\\xe7\\x9a\\x84\\xe6\\x93\\x8d\\xe4\\xbd\\x9c\\xe7\\xb3\\xbb\\xe7\\xbb\\x9f\\xe6\\x98\\xaf Red Hat Enterprise Linux (TM), CentOS, Fedora, Debian, Ubuntu,\\xe6\\x88\\x91\\xe4\\xbb\\xac\\xe5\\xbb\\xba\\xe8\\xae\\xae\\xe4\\xbd\\xbf\\xe7\\x94\\xa8\\xe7\\xb3\\xbb\\xe7\\xbb\\x9f\\xe7\\x9a\\x84\\xe8\\xbd\\xaf\\xe4\\xbb\\xb6\\xe5\\x8c\\x85\\xe7\\xae\\xa1\\xe7\\x90\\x86\\xe5\\x99\\xa8.\\n\\n\\n\\xe5\\x8f\\xa6\\xe6\\x9c\\x89\\xe4\\xb8\\x80\\xe7\\xa7\\x8d\\xe9\\x80\\x89\\xe6\\x8b\\xa9\\xe6\\x98\\xaf\\xe9\\x80\\x9a\\xe8\\xbf\\x87\\xe2\\x80\\x9dpip\\xe2\\x80\\x9d\\xe5\\xb7\\xa5\\xe5\\x85\\xb7\\xe5\\xae\\x89\\xe8\\xa3\\x85,\\xe2\\x80\\x9dpip\\xe2\\x80\\x9d\\xe6\\x98\\xaf\\xe4\\xb8\\x80\\xe4\\xb8\\xaa\\xe5\\xae\\x89\\xe8\\xa3\\x85\\xe5\\x92\\x8c\\xe7\\xae\\xa1\\xe7\\x90\\x86Python\\xe5\\x8c\\x85\\xe7\\x9a\\x84\\xe5\\xb7\\xa5\\xe5\\x85\\xb7.\\n\\n\\n\\xe8\\x8b\\xa5\\xe4\\xbd\\xa0\\xe5\\xb8\\x8c\\xe6\\x9c\\x9b\\xe8\\xb7\\x9f\\xe8\\xbf\\x9b\\xe5\\xbc\\x80\\xe5\\x8f\\x91\\xe7\\x89\\x88\\xe6\\x9c\\xac,\\xe6\\x83\\xb3\\xe4\\xbd\\xbf\\xe7\\x94\\xa8\\xe5\\x92\\x8c\\xe6\\xb5\\x8b\\xe8\\xaf\\x95\\xe6\\x9c\\x80\\xe6\\x96\\xb0\\xe7\\x9a\\x84\\xe5\\x8a\\x9f\\xe8\\x83\\xbd\\xe7\\x89\\xb9\\xe6\\x80\\xa7,\\xe6\\x88\\x91\\xe4\\xbb\\xac\\xe4\\xbc\\x9a\\xe5\\x88\\x86\\xe4\\xba\\xab\\xe5\\xa6\\x82\\xe4\\xbd\\x95\\xe4\\xbb\\x8e\\xe6\\xba\\x90\\xe7\\xa0\\x81\\xe8\\xbf\\x90\\xe8\\xa1\\x8cAnsible\\xe7\\x9a\\x84\\xe6\\x96\\xb9\\xe6\\xb3\\x95.\\n\\nQuestion: \\xe5\\xa6\\x82\\xe4\\xbd\\x95\\xe5\\xa4\\x84\\xe7\\x90\\x86\\xe9\\x9c\\x80\\xe8\\xa6\\x81\\xe4\\xb8\\x8d\\xe5\\x90\\x8c\\xe8\\xb4\\xa6\\xe6\\x88\\xb7\\xe4\\xb8\\x8e\\xe7\\xab\\xaf\\xe5\\x8f\\xa3\\xe7\\x99\\xbb\\xe5\\xbd\\x95\\xe7\\x9a\\x84\\xe4\\xb8\\x8d\\xe5\\x90\\x8c\\xe6\\x9c\\xba\\xe5\\x99\\xa8\\xef\\xbc\\x9f\\nHelpful Answer:\"\" n_tokens=-545"
     ]
    }
   ],
   "source": [
    "# llama_tokenize: too many tokens 的报错参考如下issue: https://github.com/ggerganov/llama.cpp/issues/385\n",
    "chain.run(input_documents=docs, question=query)"
   ]
  }
 ],
 "metadata": {
  "kernelspec": {
   "display_name": "Python 3 (ipykernel)",
   "language": "python",
   "name": "python3"
  },
  "language_info": {
   "codemirror_mode": {
    "name": "ipython",
    "version": 3
   },
   "file_extension": ".py",
   "mimetype": "text/x-python",
   "name": "python",
   "nbconvert_exporter": "python",
   "pygments_lexer": "ipython3",
   "version": "3.11.2"
  }
 },
 "nbformat": 4,
 "nbformat_minor": 2
}
