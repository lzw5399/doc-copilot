{
 "cells": [
  {
   "cell_type": "code",
   "execution_count": null,
   "id": "d8af5615",
   "metadata": {},
   "outputs": [],
   "source": [
    "!pip install llama-cpp-python\n",
    "!pip install langchain\n",
    "!pip install chromadb"
   ]
  },
  {
   "cell_type": "code",
   "execution_count": null,
   "id": "b109e29d",
   "metadata": {},
   "outputs": [],
   "source": [
    "from langchain.llms import LlamaCpp\n",
    "from langchain import PromptTemplate, LLMChain,VectorDBQA\n",
    "from langchain.text_splitter import MarkdownTextSplitter\n",
    "from langchain.embeddings import LlamaCppEmbeddings\n",
    "from langchain.vectorstores import Chroma"
   ]
  },
  {
   "cell_type": "code",
   "execution_count": null,
   "id": "426ae76f",
   "metadata": {},
   "outputs": [],
   "source": [
    "markdown_text = \"\"\"\n",
    "# 自定义组件\n",
    "## 1. 组件模板和样式\n",
    "类似于页面，自定义组件拥有自己的 FXML 模板和 FTSS 样式。\n",
    "### 1.1 组件模板\n",
    "组件模板的写法与页面模板相同。组件模板与组件数据结合后生成的节点树，将被插入到组件的引用位置上。\n",
    "\n",
    "在组件模板中可以提供一个 `<slot>` 节点，用于承载组件引用时提供的子节点。​\n",
    "\n",
    "**代码示例**\n",
    "```html\n",
    "<!-- 组件模板 -->\n",
    "<view class=\"wrapper\">\n",
    "  <view>这里是组件的内部节点</view>\n",
    "  <slot></slot>\n",
    "</view>\n",
    "<!-- 引用组件的页面模板 -->\n",
    "<view>\n",
    "  <component-tag-name>\n",
    "    <!-- 这部分内容将被放置在组件 <slot> 的位置上 -->\n",
    "    <view>这里是插入到组件slot中的内容</view>\n",
    "  </component-tag-name>\n",
    "</view>\n",
    "```\n",
    "\"\"\"\n",
    "markdown_splitter = MarkdownTextSplitter(chunk_size=100, chunk_overlap=0)\n",
    "docs = markdown_splitter.create_documents([markdown_text])\n",
    "\n",
    "# 初始化 openai 的 embeddings 对象\n",
    "embeddings = LlamaCppEmbeddings(model_path=\"./llama.cpp/zh-models/7B/ggml-model-q4_0.bin\")\n",
    "# 将 document 通过 openai 的 embeddings 对象计算 embedding 向量信息并临时存入 Chroma 向量数据库，用于后续匹配查询\n",
    "docsearch = Chroma.from_documents(docs, embeddings)\n",
    "\n",
    "llm = LlamaCpp(model_path=\"./llama.cpp/zh-models/7B/ggml-model-q4_0.bin\")\n"
   ]
  },
  {
   "cell_type": "code",
   "execution_count": null,
   "id": "2944cbd0",
   "metadata": {},
   "outputs": [],
   "source": [
    "qa = VectorDBQA.from_chain_type(llm=llm, chain_type=\"stuff\", vectorstore=docsearch,return_source_documents=True)\n",
    "# 进行问答\n",
    "result = qa({\"query\": \"组件模板的写法？\"})\n",
    "print(result)"
   ]
  },
  {
   "cell_type": "code",
   "execution_count": null,
   "id": "a3d5026f",
   "metadata": {},
   "outputs": [],
   "source": []
  }
 ],
 "metadata": {
  "kernelspec": {
   "display_name": "Python 3 (ipykernel)",
   "language": "python",
   "name": "python3"
  },
  "language_info": {
   "codemirror_mode": {
    "name": "ipython",
    "version": 3
   },
   "file_extension": ".py",
   "mimetype": "text/x-python",
   "name": "python",
   "nbconvert_exporter": "python",
   "pygments_lexer": "ipython3",
   "version": "3.11.2"
  }
 },
 "nbformat": 4,
 "nbformat_minor": 5
}
